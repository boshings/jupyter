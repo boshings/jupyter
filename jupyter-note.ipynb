{
 "cells": [
  {
   "cell_type": "markdown",
   "metadata": {},
   "source": [
    "# Jupyter notebook 筆記"
   ]
  },
  {
   "cell_type": "markdown",
   "metadata": {},
   "source": [
    "# 安裝 Jupyter notebook \n",
    "1. 安裝 python\n",
    "2. cmd 執行 : pip install ipython\n",
    "3. cmd 執行 : pip install jupyter\n",
    "4. cmd 執行 : ipython notebook"
   ]
  },
  {
   "cell_type": "markdown",
   "metadata": {},
   "source": [
    "# 註冊 Github\n",
    "* https://github.com/\n",
    "* 建立 Repository\n",
    "* 上傳 .ipynb 檔案"
   ]
  },
  {
   "cell_type": "markdown",
   "metadata": {},
   "source": [
    "# 展示 Jupyter nbviewer\n",
    "* .ipynb 網址 貼到以下網頁\n",
    "* https://nbviewer.jupyter.org/"
   ]
  }
 ],
 "metadata": {
  "kernelspec": {
   "display_name": "Python 3",
   "language": "python",
   "name": "python3"
  },
  "language_info": {
   "codemirror_mode": {
    "name": "ipython",
    "version": 3
   },
   "file_extension": ".py",
   "mimetype": "text/x-python",
   "name": "python",
   "nbconvert_exporter": "python",
   "pygments_lexer": "ipython3",
   "version": "3.6.0"
  }
 },
 "nbformat": 4,
 "nbformat_minor": 2
}
